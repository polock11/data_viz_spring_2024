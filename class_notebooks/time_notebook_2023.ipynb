{
 "cells": [
  {
   "cell_type": "code",
   "execution_count": 43,
   "metadata": {},
   "outputs": [
    {
     "data": {
      "text/html": [
       "<div>\n",
       "<style scoped>\n",
       "    .dataframe tbody tr th:only-of-type {\n",
       "        vertical-align: middle;\n",
       "    }\n",
       "\n",
       "    .dataframe tbody tr th {\n",
       "        vertical-align: top;\n",
       "    }\n",
       "\n",
       "    .dataframe thead th {\n",
       "        text-align: right;\n",
       "    }\n",
       "</style>\n",
       "<table border=\"1\" class=\"dataframe\">\n",
       "  <thead>\n",
       "    <tr style=\"text-align: right;\">\n",
       "      <th></th>\n",
       "      <th>time_str</th>\n",
       "      <th>datetime</th>\n",
       "      <th>unix_epoch</th>\n",
       "      <th>year</th>\n",
       "      <th>month</th>\n",
       "      <th>day</th>\n",
       "      <th>hour</th>\n",
       "      <th>minute</th>\n",
       "      <th>second</th>\n",
       "      <th>value</th>\n",
       "    </tr>\n",
       "  </thead>\n",
       "  <tbody>\n",
       "    <tr>\n",
       "      <th>0</th>\n",
       "      <td>16.6.2021 0.00</td>\n",
       "      <td>2021-06-16 00:00:00</td>\n",
       "      <td>1623790800</td>\n",
       "      <td>2021</td>\n",
       "      <td>6</td>\n",
       "      <td>16</td>\n",
       "      <td>0</td>\n",
       "      <td>0</td>\n",
       "      <td>0</td>\n",
       "      <td>3.42</td>\n",
       "    </tr>\n",
       "    <tr>\n",
       "      <th>1</th>\n",
       "      <td>16.6.2021 1.00</td>\n",
       "      <td>2021-06-16 01:00:00</td>\n",
       "      <td>1623794400</td>\n",
       "      <td>2021</td>\n",
       "      <td>6</td>\n",
       "      <td>16</td>\n",
       "      <td>1</td>\n",
       "      <td>0</td>\n",
       "      <td>0</td>\n",
       "      <td>0.54</td>\n",
       "    </tr>\n",
       "    <tr>\n",
       "      <th>2</th>\n",
       "      <td>16.6.2021 2.00</td>\n",
       "      <td>2021-06-16 02:00:00</td>\n",
       "      <td>1623798000</td>\n",
       "      <td>2021</td>\n",
       "      <td>6</td>\n",
       "      <td>16</td>\n",
       "      <td>2</td>\n",
       "      <td>0</td>\n",
       "      <td>0</td>\n",
       "      <td>0.40</td>\n",
       "    </tr>\n",
       "    <tr>\n",
       "      <th>3</th>\n",
       "      <td>16.6.2021 3.00</td>\n",
       "      <td>2021-06-16 03:00:00</td>\n",
       "      <td>1623801600</td>\n",
       "      <td>2021</td>\n",
       "      <td>6</td>\n",
       "      <td>16</td>\n",
       "      <td>3</td>\n",
       "      <td>0</td>\n",
       "      <td>0</td>\n",
       "      <td>0.40</td>\n",
       "    </tr>\n",
       "    <tr>\n",
       "      <th>4</th>\n",
       "      <td>16.6.2021 4.00</td>\n",
       "      <td>2021-06-16 04:00:00</td>\n",
       "      <td>1623805200</td>\n",
       "      <td>2021</td>\n",
       "      <td>6</td>\n",
       "      <td>16</td>\n",
       "      <td>4</td>\n",
       "      <td>0</td>\n",
       "      <td>0</td>\n",
       "      <td>0.39</td>\n",
       "    </tr>\n",
       "  </tbody>\n",
       "</table>\n",
       "</div>"
      ],
      "text/plain": [
       "         time_str            datetime  unix_epoch  year  month  day  hour  \\\n",
       "0  16.6.2021 0.00 2021-06-16 00:00:00  1623790800  2021      6   16     0   \n",
       "1  16.6.2021 1.00 2021-06-16 01:00:00  1623794400  2021      6   16     1   \n",
       "2  16.6.2021 2.00 2021-06-16 02:00:00  1623798000  2021      6   16     2   \n",
       "3  16.6.2021 3.00 2021-06-16 03:00:00  1623801600  2021      6   16     3   \n",
       "4  16.6.2021 4.00 2021-06-16 04:00:00  1623805200  2021      6   16     4   \n",
       "\n",
       "   minute  second  value  \n",
       "0       0       0   3.42  \n",
       "1       0       0   0.54  \n",
       "2       0       0   0.40  \n",
       "3       0       0   0.40  \n",
       "4       0       0   0.39  "
      ]
     },
     "execution_count": 43,
     "metadata": {},
     "output_type": "execute_result"
    }
   ],
   "source": [
    "import pandas as pd\n",
    "import datetime\n",
    "import time\n",
    "\n",
    "#time_data.csv now includes the time information in four different formats:\n",
    "\n",
    "# String\n",
    "# Python datetime\n",
    "# Unix epoch\n",
    "# Year, month, day, hour, minute and second in separate columns\n",
    "\n",
    "df = pd.read_csv('time_data.csv')\n",
    "#df.head()\n",
    "#df.info()\n",
    "\n",
    "#type(df['datetime'][0])\n",
    "\n",
    "#Datetime is not always recognized when importing csv, needs to be fixed\n",
    "df['datetime'] = pd.to_datetime(df['datetime'])\n",
    "#type(df['datetime'][0])\n",
    "df.head()"
   ]
  },
  {
   "cell_type": "code",
   "execution_count": 44,
   "metadata": {},
   "outputs": [
    {
     "name": "stdout",
     "output_type": "stream",
     "text": [
      "The time is  2021 6 16 0 00\n"
     ]
    }
   ],
   "source": [
    "#Converting strings to other format:\n",
    "#Method 1: Simply splitting the string\n",
    "D = df['time_str'][0].split('.')[0] #Day. Split string into four parts divided by . and select the first one (index 0)\n",
    "M = df['time_str'][0].split('.')[1] #Month, select the second one (index 1)\n",
    "\n",
    "Y = df['time_str'][0].split(' ')[0].split('.')[2] #Year\n",
    "h = df['time_str'][0].split(' ')[1].split('.')[0] #Hour\n",
    "m = df['time_str'][0].split(' ')[1].split('.')[1] #Minute\n",
    "\n",
    "print('The time is ', Y, M, D, h, m)\n",
    "\n",
    "#Note that reading all values requiere a loop, for example\n",
    "D = []\n",
    "#or\n",
    "#df['day'] = [0] * df.shape[0] #Empty list of values, lenght of data frame\n",
    "for i in range(len(df)):\n",
    "    D.append(df['time_str'][i].split('.')[0])\n",
    "    #or\n",
    "    #df['day'][i] = df['time_str'][i].split('.')[0]"
   ]
  },
  {
   "cell_type": "code",
   "execution_count": 47,
   "metadata": {},
   "outputs": [
    {
     "name": "stdout",
     "output_type": "stream",
     "text": [
      "The time in datetime format is  2021-06-16 00:00:00\n",
      "The time is  2021 6 16 0 0 0\n"
     ]
    }
   ],
   "source": [
    "#Method 2, strptime\n",
    "dt = datetime.datetime.strptime(df['time_str'][0],'%d.%m.%Y %H.%M')  \n",
    "\n",
    "print('The time in datetime format is ', dt)\n",
    "\n",
    "#Note that '%d.%m.%Y %H.%M' must exactly describe the string!\n",
    "\n",
    "# #Values can be excracted from datetime\n",
    "Y = dt.year\n",
    "M = dt.month\n",
    "D = dt.day\n",
    "h = dt.hour\n",
    "m = dt.minute\n",
    "s = dt.second\n",
    "print('The time is ', Y, M, D, h, m,s)\n",
    "\n",
    "# And all the values in the loop\n",
    "# df['datetime'] = [0] * df.shape[0] #Empty list of values, lenght of data frame\n",
    "# for i in range(len(df)):\n",
    "#    df['datetime'][i] = datetime.datetime.strptime(df['time_str'][i],'%d.%m.%Y %H.%M') "
   ]
  },
  {
   "cell_type": "code",
   "execution_count": 50,
   "metadata": {},
   "outputs": [
    {
     "name": "stdout",
     "output_type": "stream",
     "text": [
      "Unix timestampt of the first value is  1623790800.0\n",
      "Unix timestampt of the first value is  1623790800.0\n"
     ]
    }
   ],
   "source": [
    "#Unix epoch from datetime\n",
    "unix_epoch = time.mktime(df['datetime'][0].timetuple())\n",
    "print('Unix timestampt of the first value is ', unix_epoch)\n",
    "\n",
    "\n",
    "#From separate year, month, day, hour, minute and second\n",
    "d = datetime.datetime(Y,M,D,h,m,s)\n",
    "unix_epoch2 = time.mktime(d.timetuple())\n",
    "print('Unix timestampt of the first value is ', unix_epoch2)\n",
    "\n",
    "#And in the loop:\n",
    "\n",
    "df['unix_epoch'] = [0] * df.shape[0] #Empty list of values, lenght of data frame\n",
    "for i in range(len(df)):\n",
    "    df['unix_epoch'][i] = time.mktime(df['datetime'][i].timetuple())"
   ]
  }
 ],
 "metadata": {
  "kernelspec": {
   "display_name": "Python 3",
   "language": "python",
   "name": "python3"
  },
  "language_info": {
   "codemirror_mode": {
    "name": "ipython",
    "version": 3
   },
   "file_extension": ".py",
   "mimetype": "text/x-python",
   "name": "python",
   "nbconvert_exporter": "python",
   "pygments_lexer": "ipython3",
   "version": "3.10.6"
  },
  "orig_nbformat": 4
 },
 "nbformat": 4,
 "nbformat_minor": 2
}
